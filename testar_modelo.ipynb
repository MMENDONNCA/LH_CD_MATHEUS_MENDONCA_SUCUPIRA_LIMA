{
  "nbformat": 4,
  "nbformat_minor": 0,
  "metadata": {
    "colab": {
      "provenance": []
    },
    "kernelspec": {
      "name": "python3",
      "display_name": "Python 3"
    },
    "language_info": {
      "name": "python"
    }
  },
  "cells": [
    {
      "cell_type": "code",
      "source": [
        "import joblib\n",
        "import pandas as pd\n",
        "import numpy as np\n",
        "\n",
        "try:\n",
        "    kit_carregado = joblib.load('modelo_final_completo.pkl')\n",
        "    print(\"Kit carregado com sucesso!\")\n",
        "\n",
        "    modelo = kit_carregado['modelo']\n",
        "    escalonador = kit_carregado['escalonador']\n",
        "    colunas_modelo = kit_carregado['lista_de_colunas']\n",
        "    top_categorias = kit_carregado['top_categorias']\n",
        "except FileNotFoundError:\n",
        "    print(\"ERRO: O arquivo 'modelo_final_completo.pkl' não foi encontrado.\")\n",
        "    print(\"Certifique-se de que ele está na mesma pasta que este notebook.\")\n",
        "\n",
        "def prever_nota_filme(df_filme_raw):\n",
        "    \"\"\"\n",
        "    Recebe um DataFrame com 1 linha de dados BRUTOS de um filme\n",
        "    e retorna a previsão da nota do IMDB.\n",
        "    \"\"\"\n",
        "    df_proc = df_filme_raw.copy()\n",
        "\n",
        "    df_proc['Runtime'] = df_proc['Runtime'].str.replace(' min', '').astype(int)\n",
        "    df_proc['Gross'] = df_proc['Gross'].str.replace(',', '').astype(float)\n",
        "    df_proc['No_of_Votes_log'] = np.log10(df_proc['No_of_Votes'] + 1)\n",
        "    df_proc['Gross_log'] = np.log10(df_proc['Gross'] + 1)\n",
        "    df_proc = df_proc.drop(columns=['No_of_Votes', 'Gross'])\n",
        "\n",
        "    genre_dummies = df_proc['Genre'].str.get_dummies(sep=', ')\n",
        "    df_proc = pd.concat([df_proc, genre_dummies], axis=1)\n",
        "    df_proc = df_proc.drop('Genre', axis=1)\n",
        "\n",
        "    for col, top_cats in top_categorias.items():\n",
        "\n",
        "        if col in df_proc.columns:\n",
        "            df_proc[col] = df_proc[col].where(df_proc[col].isin(top_cats), 'Other')\n",
        "\n",
        "    df_proc = pd.get_dummies(df_proc, drop_first=True)\n",
        "    df_proc_final = df_proc.reindex(columns=colunas_modelo, fill_value=0)\n",
        "\n",
        "    dados_escalonados = escalonador.transform(df_proc_final)\n",
        "    previsao = modelo.predict(dados_escalonados)\n",
        "\n",
        "    return previsao[0]\n",
        "\n",
        "shawshank_data = {\n",
        "    'Series_Title': 'The Shawshank Redemption', 'Released_Year': '1994',\n",
        "    'Certificate': 'A', 'Runtime': '142 min', 'Genre': 'Drama',\n",
        "    'Overview': 'Two imprisoned men bond over a number of years...',\n",
        "    'Meta_score': 80.0, 'Director': 'Frank Darabont', 'Star1': 'Tim Robbins',\n",
        "    'Star2': 'Morgan Freeman', 'Star3': 'Bob Gunton', 'Star4': 'William Sadler',\n",
        "    'No_of_Votes': 2343110, 'Gross': '28,341,469'\n",
        "}\n",
        "filme_para_teste = pd.DataFrame([shawshank_data])\n",
        "\n",
        "nota_prevista = prever_nota_filme(filme_para_teste)\n",
        "\n",
        "print(f\"A nota prevista para '{filme_para_teste['Series_Title'].iloc[0]}' é: {nota_prevista:.2f}\")\n"
      ],
      "metadata": {
        "colab": {
          "base_uri": "https://localhost:8080/"
        },
        "id": "X5Xamk5gtk_D",
        "outputId": "f5bbb5eb-fa20-4804-c780-65f23a682b1a"
      },
      "execution_count": 1,
      "outputs": [
        {
          "output_type": "stream",
          "name": "stdout",
          "text": [
            "Kit carregado com sucesso!\n",
            "A nota prevista para 'The Shawshank Redemption' é: 7.93\n"
          ]
        }
      ]
    }
  ]
}